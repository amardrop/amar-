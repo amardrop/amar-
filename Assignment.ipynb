{
 "cells": [
  {
   "cell_type": "markdown",
   "id": "fa7696a9-37a0-412c-9029-dd55445c3162",
   "metadata": {},
   "source": [
    "1. Who developed Python Programming Language?\n",
    "\n",
    "Ans. Dutch programmer Guido van Rossum developed Python in the late 1980s."
   ]
  },
  {
   "cell_type": "markdown",
   "id": "6e0c2fbf-f6de-4c17-b95d-224393291cd3",
   "metadata": {},
   "source": [
    "2.  Which type of Programming does Python support?\n",
    "\n",
    "Ans. Python is an objectoriented, structured, and functional programming language that is interpreted.\n"
   ]
  },
  {
   "cell_type": "markdown",
   "id": "26a7e67e-1fb0-41e2-bf63-659d8f332a30",
   "metadata": {},
   "source": [
    "3.  ls Python case sensitive when dealing with identifiers?\n",
    "\n",
    "Ans. Python is, indeed, a casesensitive programming language. This means that uppercase and lowercase letters are treated differently. As a result, in Python, we cannot interchangeably use two terms with the same characters but distinct situations."
   ]
  },
  {
   "cell_type": "markdown",
   "id": "87c45904-4093-4c7f-9236-11f3b77c4689",
   "metadata": {},
   "source": [
    "4. What is the correct extension of the Python file?\n",
    "\n",
    "Ans. \".py\" is the appropriate extension for Python files. A Python file should have a name that ends in \".py\" when you save it. \"Hello.py\" or \"my program.py,\" for instance."
   ]
  },
  {
   "cell_type": "markdown",
   "id": "e8430ecd-5809-4d53-a8af-357c5a0a88fd",
   "metadata": {},
   "source": [
    "5.  ls Python code compiled or interpreted?\n",
    "\n",
    "Ans. Python applications can be both compiled and interpreted!! Yet, the compilation process is hidden from the coder."
   ]
  },
  {
   "cell_type": "markdown",
   "id": "8419752a-16e4-4a73-a517-390803c36f5f",
   "metadata": {},
   "source": [
    "6. Name a few blocks of code used to define in Python language?\n",
    "In Python, indentation is used to designate code chunks rather than curly brackets or other symbols. Here are a few Python code block illustrations:\n",
    "\n",
    "Function block: The \"def\" keyword is used to define a function block, which is then followed by the function name and any parameters, enclosed in parentheses. The function block, which is indented after the function declaration, includes the code that will be run when the function is called.\n",
    "\n",
    "Conditional block: Depending on whether a certain condition is true or false, a conditional block is used to run code conditionally. The \"if\" keyword is used to declare the conditional block, which is then followed by the condition enclosed in parentheses. The conditional block, which is the indented code after the \"if\" statement, includes the code that will be performed if the condition is true.\n",
    "\n",
    "Loop block: Code execution loops are used to continually run programmes. In Python, there are two different kinds of loop blocks: \"for\" loops and \"while\" loops. The \"for\" or \"while\" keyword is used to create the loop block, which is then followed by the loop condition enclosed in parentheses. The loop block, which is indented after the loop statement, includes the code that will be run once for each iteration of the loop."
   ]
  },
  {
   "cell_type": "markdown",
   "id": "fda9e16e-8e13-4c88-a95d-91f4d26c1e26",
   "metadata": {},
   "source": [
    "7. State a character used to give single-line comments in Python?\n",
    "\n",
    "Ans. The hash symbol \"#\" can be used in Python to create one-line comments. The interpreter ignores and interprets any content that appears on the same line after the hash character as a comment."
   ]
  },
  {
   "cell_type": "markdown",
   "id": "21b2050c-26d1-49b7-8d2a-8120752c8aee",
   "metadata": {},
   "source": [
    "8. Mention functions which can help us to find the version of python that we are currently working on?\n",
    "\n",
    "Ans. sys.version: This function returns a string containing the version number of Python, as well as additional information about the build and the platform.\n",
    "\n",
    "import sys\n",
    "\n",
    "print(sys.version)\n",
    "\n",
    "\n",
    "\n",
    "Platform.python version(): This method, as opposed to sys.version, produces a string providing the Python version number in a more understandable manner.\n",
    "\n",
    "import platform\n",
    "\n",
    "print(platform.python_version())\n",
    " \n",
    "\n"
   ]
  },
  {
   "cell_type": "markdown",
   "id": "df1f9ccf-fd92-482c-b386-31282226f43e",
   "metadata": {},
   "source": [
    "9.  Python supports the creation of anonymous functions at runtime, using a construct called Lambda functions."
   ]
  },
  {
   "cell_type": "markdown",
   "id": "e96b681c-61eb-4a3a-a75d-d5437a18162a",
   "metadata": {},
   "source": [
    "10. What does pip stand for python?\n",
    "\n",
    "Ans. \"Pip Installs Packages\" is the acronym for. It's a Python package manager that enables you to manage and install external libraries and modules in your Python environment. The majority of Python distributions come with Pip.\n"
   ]
  },
  {
   "cell_type": "markdown",
   "id": "923a66a0-8b8e-4127-98e7-837a19fbcb91",
   "metadata": {},
   "source": [
    "11. Mention a few built-in functions in python?\n",
    "\n",
    "Ans. print(): This function is used to print output to the console.\n",
    "\n",
    "len(): This function is used to get the length of an object such as a string, list, or tuple.\n",
    "\n",
    "input(): This function is used to get input from the user through the console.\n",
    "\n",
    "range(): This function is used to generate a sequence of numbers.\n",
    "\n",
    "type(): This function is used to get the type of an object.\n",
    "\n",
    "int(), float(), str(): These functions are used to convert a value to an integer, float, or string, respectively.\n",
    "\n",
    "abs(): This function is used to get the absolute value of a number.\n",
    "\n",
    "max(), min(): These functions are used to get the maximum and minimum value of a list or sequence of values.\n",
    "\n",
    "sum(): This function is used to get the sum of all values in a list or sequence of values.\n",
    "\n",
    "sorted(): This function is used to sort a list or sequence of values in ascending or descending order."
   ]
  },
  {
   "cell_type": "markdown",
   "id": "217ad4bd-09b1-4e96-b5e7-c80fd43c3bbe",
   "metadata": {},
   "source": [
    "12. What is the maximum possible length of an identifier in Python?\n",
    "\n",
    "Ans. The maximum length of an identifier in Python is not specified or limited by the language specification. However, it is generally recommended to keep identifier lengths reasonable for the sake of code readability and maintainability."
   ]
  },
  {
   "cell_type": "markdown",
   "id": "2eb3bc3c-56a8-49ca-a8a8-36f18ec4343b",
   "metadata": {},
   "source": [
    "13. What are the benefits of using Python?\n",
    "\n",
    "Python is a high-level, general-purpose programming language that is widely used in a variety of industries due to its numerous advantages, which include:\n",
    "\n",
    "Python has a very simple and easy-to-learn syntax, making it an excellent language for beginners to learn programming. Its code structure is clean and readable, making it easier to understand and maintain.\n",
    "\n",
    "\n",
    "Python's versatility allows it to be used for a wide range of applications, including web development, scientific computing, data analysis, and machine learning.\n",
    "\n",
    "Python has a large and active developer community, which means that there is a wealth of documentation, tutorials, and resources available to help you learn and use Python.\n",
    "\n",
    "Libraries and frameworks are widely available in Python, including NumPy, Pandas, Django, Flask, and many others, which can help you save time and effort when developing your application.\n",
    "\n",
    "\n",
    "Python can run on a variety of platforms, including Windows, Linux, and Mac, making it a versatile language for developers."
   ]
  },
  {
   "cell_type": "markdown",
   "id": "9b144bac-735f-4a9e-a955-126061c4804c",
   "metadata": {},
   "source": [
    "14.  How is memory managed in Python?\n",
    "\n",
    "Ans. In Python, memory management is handled automatically by the interpreter using a technique known as dynamic memory allocation. When a Python object is created, it is given a unique identifier as well as a memory location. The interpreter then keeps track of the object's reference count, or the number of times the object is mentioned in the programme. When the reference count of an object reaches zero, the interpreter automatically frees the memory associated with that object.\n",
    "\n",
    "Python also has a garbage collector, which is a background process that checks for and removes unreferenced objects from memory on a regular basis. This process ensures that no memory is wasted by unused objects, making Python an efficient and effective memory management language."
   ]
  },
  {
   "cell_type": "markdown",
   "id": "20c2a756-6610-46fa-8fcd-3a5d490d5657",
   "metadata": {},
   "source": [
    "15. How to install Python on Windows and set path variables?\n",
    "\n",
    "Ans. a. Right-click This PC and select Properties.\n",
    "\n",
    "b. In the menu on the left, select Advanced system settings.\n",
    "\n",
    "c. Clicking the Environment Variables button in the lower right corner.\n",
    "\n",
    "d. Select the Path variable in the System variables section and click Edit. The following screen displays all of the directories that are currently in the PATH variable.\n",
    "\n",
    "e. By selecting New and entering the Python installation directory.\n",
    "\n"
   ]
  },
  {
   "cell_type": "markdown",
   "id": "6aabd914-14ae-448d-b28d-971afa023e0a",
   "metadata": {},
   "source": [
    "16. Is indentation required in python?\n",
    "\n",
    "Ans. In Python, indentation is required. Python uses indentation to define the scope and hierarchy of the code, as opposed to other programming languages that use braces to indicate blocks of code. This means that the way you indent your code has a direct impact on how it is executed.\n",
    "\n",
    "Statements indented at the same level in Python are considered to be part of the same block of code, and the indentation level determines the scope of the code. This is important for control structures like loops and conditional statements, where the indentation level defines the loop or condition's body."
   ]
  },
  {
   "cell_type": "code",
   "execution_count": null,
   "id": "a88410c8-c2cd-4242-b2bc-37d44f3ea6ab",
   "metadata": {},
   "outputs": [],
   "source": []
  }
 ],
 "metadata": {
  "kernelspec": {
   "display_name": "Python 3 (ipykernel)",
   "language": "python",
   "name": "python3"
  },
  "language_info": {
   "codemirror_mode": {
    "name": "ipython",
    "version": 3
   },
   "file_extension": ".py",
   "mimetype": "text/x-python",
   "name": "python",
   "nbconvert_exporter": "python",
   "pygments_lexer": "ipython3",
   "version": "3.10.8"
  }
 },
 "nbformat": 4,
 "nbformat_minor": 5
}
